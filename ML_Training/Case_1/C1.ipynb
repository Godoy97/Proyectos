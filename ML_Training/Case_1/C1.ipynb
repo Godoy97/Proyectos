{
 "cells": [
  {
   "cell_type": "markdown",
   "metadata": {},
   "source": [
    "# Tarea 1\n",
    "__Curso:__ Aprendizaje Automático 2020 \n",
    "\n",
    "__Programa:__ MIIIO/DIIIO/DISC\n",
    "\n",
    "__Profesor:__ Gonzalo Ruz\n",
    "\n",
    "__Ayudante:__ Anthony Cho"
   ]
  },
  {
   "cell_type": "markdown",
   "metadata": {},
   "source": [
    "## Instrucciones\n",
    "* La tarea es individual\n",
    "* Por favor responder en este mismo notebook\n",
    "* Renombrar el archivo agregando su nombre, por ejemplo tarea1_Beto_Acosta.ipynb\n",
    "* Subir el archivo al link de entrega Tarea 1 en webcursos que será habilitado\n",
    "* __Fecha de entrega:__ viernes 31 de julio, 23:55 hrs."
   ]
  },
  {
   "cell_type": "markdown",
   "metadata": {},
   "source": [
    "Considere el dataset wine (un clásico parecido a iris)"
   ]
  },
  {
   "cell_type": "code",
   "execution_count": 1,
   "metadata": {},
   "outputs": [],
   "source": [
    "from sklearn.datasets import load_wine\n",
    "wine_dataset = load_wine()\n",
    "#print(wine_dataset.keys())\n",
    "#print(wine_dataset['DESCR'])"
   ]
  },
  {
   "cell_type": "markdown",
   "metadata": {},
   "source": [
    "## Pregunta 1\n",
    "Realice una partición aleatoria para generar un conjunto de entrenamiento, validación, y prueba. Utilice un enfoque de Grid Search para encontrar el valor de k más apropiado para un clasificador knn. Para el valor de k encontrado, evalúe en el conjunto de prueba, entregando la matriz de confusión, accuracy, precision, recall, y F1-score. Para qué tipo de vino (clase), el clasificador tiene más problemas para clasificar, justifique su respuesta. "
   ]
  },
  {
   "cell_type": "markdown",
   "metadata": {},
   "source": [
    "### Respuesta:"
   ]
  },
  {
   "cell_type": "code",
   "execution_count": 18,
   "metadata": {},
   "outputs": [],
   "source": [
    "#Librerias requeridas para las distintas respuestas:\n",
    "\n",
    "from sklearn.metrics import accuracy_score, confusion_matrix, recall_score, precision_score,classification_report\n",
    "from sklearn.metrics import plot_confusion_matrix\n",
    "from matplotlib import pyplot as plt\n",
    "from sklearn.preprocessing import StandardScaler\n",
    "%matplotlib inline\n",
    "from sklearn.model_selection import train_test_split\n",
    "from sklearn.neighbors import KNeighborsClassifier\n",
    "from sklearn.linear_model import LogisticRegression\n",
    "import random, math\n",
    "import warnings\n",
    "warnings.filterwarnings('ignore')\n",
    "random.seed(7)\n",
    "from sklearn.svm import SVC\n",
    "from sklearn.model_selection import cross_val_score\n",
    "from sklearn import metrics\n",
    "from sklearn.model_selection import StratifiedKFold\n",
    "from sklearn.model_selection import GridSearchCV\n",
    "from numpy import linspace"
   ]
  },
  {
   "cell_type": "code",
   "execution_count": 3,
   "metadata": {},
   "outputs": [
    {
     "name": "stdout",
     "output_type": "stream",
     "text": [
      "Size of training set: 99   size of validation set: 34   size of test set: 45\n",
      "\n",
      "Best score on validation set: 0.29\n",
      "Best parameters:  {'n_neighbors': 1} NUESTRO K A UTILIZAR\n",
      "Test set score with best parameters: 0.98\n"
     ]
    }
   ],
   "source": [
    "#Hacemos Naive way of GridSearch, donde no usamos GridSearchCV, pues usa crossvalidation\n",
    "\n",
    "# split data into train+validation set and test set\n",
    "X_trainval, X_test, y_trainval, y_test = train_test_split(\n",
    "    wine_dataset.data, wine_dataset.target, random_state=7) #Fijamos la semilla en 7.\n",
    "\n",
    "# split train+validation set into training and validation set\n",
    "X_train, X_valid, y_train, y_valid = train_test_split(\n",
    "    X_trainval, y_trainval, random_state=0)\n",
    "\n",
    "# #Estandarizamos los datos:\n",
    "scale = StandardScaler().fit(X_train)\n",
    "X_test = scale.transform(X_test)\n",
    "X_trainval= scale.transform(X_trainval)\n",
    "X_train= scale.transform(X_train)\n",
    "\n",
    "\n",
    "#Vemos los size de cada set\n",
    "print(\"Size of training set: {}   size of validation set: {}   size of test set:\"\n",
    "      \" {}\\n\".format(X_train.shape[0], X_valid.shape[0], X_test.shape[0]))\n",
    "\n",
    "best_score = 0 #Variable axuliar para guardar el mejor score y asi obtener la mejor k\n",
    "#Parametro K\n",
    "k=list(range(1,100)) #Es una grid de numeros que conocemos, en este caso una lista del 1 al 100\n",
    "for n_neighbors in k:\n",
    "    #Hacemos el train\n",
    "    knn = KNeighborsClassifier(n_neighbors=n_neighbors)\n",
    "    knn.fit(X_train, y_train)\n",
    "    #Evaluamos\n",
    "    score=knn.score(X_valid, y_valid)\n",
    "    #Nos quedamos con el mejor score\n",
    "    if score > best_score:\n",
    "            best_score = score\n",
    "            best_parameters = {'n_neighbors': n_neighbors}\n",
    "    #print(\"paso\", score) #chequee si el for funcionaba correctamente y observe los scores\n",
    "            \n",
    "#Usamos el mejor K y evaluamos en el test set\n",
    "knn=KNeighborsClassifier(**best_parameters)\n",
    "knn.fit(X_trainval, y_trainval)\n",
    "test_score = knn.score(X_test, y_test)\n",
    "print(\"Best score on validation set: {:.2f}\".format(best_score))\n",
    "print(\"Best parameters: \", best_parameters, \"NUESTRO K A UTILIZAR\")\n",
    "print(\"Test set score with best parameters: {:.2f}\".format(test_score))"
   ]
  },
  {
   "cell_type": "code",
   "execution_count": 5,
   "metadata": {
    "scrolled": true
   },
   "outputs": [
    {
     "name": "stdout",
     "output_type": "stream",
     "text": [
      "MATRIZ DE CONFUSION:\n"
     ]
    },
    {
     "data": {
      "image/png": "[encoded data removed]",
      "text/plain": [
       "<Figure size 432x288 with 2 Axes>"
      ]
     },
     "metadata": {
      "needs_background": "light"
     },
     "output_type": "display_data"
    },
    {
     "name": "stdout",
     "output_type": "stream",
     "text": [
      "RESUMEN\n",
      "              precision    recall  f1-score   support\n",
      "\n",
      "           0       1.00      1.00      1.00         9\n",
      "           1       1.00      0.95      0.97        19\n",
      "           2       0.94      1.00      0.97        17\n",
      "\n",
      "    accuracy                           0.98        45\n",
      "   macro avg       0.98      0.98      0.98        45\n",
      "weighted avg       0.98      0.98      0.98        45\n",
      "\n"
     ]
    }
   ],
   "source": [
    "knn = KNeighborsClassifier(n_neighbors=1) #Usamos el K obtenido anteriormente.\n",
    "knn.fit(X_trainval, y_trainval)\n",
    "y_pred = knn.predict(X_test)\n",
    "#print(\"MATRIZ DE CONFUSION(y_test, y_pred): \\n\", confusion_matrix(y_test, y_pred)) No usamos esta pues es menos estetica\n",
    "#En cambio usamos esta que es mas facil visualizar\n",
    "print(\"MATRIZ DE CONFUSION:\")\n",
    "plot_confusion_matrix(knn, X_test, y_test)\n",
    "plt.show()\n",
    "print('RESUMEN')\n",
    "print(classification_report(y_test, y_pred))\n"
   ]
  },
  {
   "cell_type": "markdown",
   "metadata": {},
   "source": [
    "###### -\n",
    "Con ayuda del codigo expuesto en la Ayudantia 2, efectuada por Anthony C. Podemos visualizar otras metricas de relevancia, como lo son la precision y el recall de manera grafica.\n",
    "\n",
    "Se implementa un k desde 1 hasta 50, para asi visualizar que k=1 es realmente la mejor opción."
   ]
  },
  {
   "cell_type": "code",
   "execution_count": 6,
   "metadata": {},
   "outputs": [
    {
     "data": {
      "image/png": "[encoded data removed]",
      "text/plain": [
       "<Figure size 936x288 with 1 Axes>"
      ]
     },
     "metadata": {
      "needs_background": "light"
     },
     "output_type": "display_data"
    }
   ],
   "source": [
    "nVecinos = range(1, 50) #Usamos solo hasta 50 vecinos, pues luego las matricas se estabilizan\n",
    "\n",
    "## Almacenamiento de los valores de las metricas\n",
    "metrics = {'accuracy':[],\n",
    "           'precision': [],\n",
    "           'recall': []}\n",
    "\n",
    "for k in nVecinos:\n",
    "    #Usamos trainval, debido a que este seria nuestro set de train \"Completo\", sin separarlo para validar\n",
    "    modelo = KNeighborsClassifier(n_jobs = -1, n_neighbors=k).fit(X_trainval, y_trainval)\n",
    "    \n",
    "    ## Prediccion usando los test data\n",
    "    prediccion = modelo.predict(X_test)\n",
    "    \n",
    "    # Registro de las metricas, usamos 'macro' para precision y recall, pues este es un caso de multiples clases y se\n",
    "    # establece que cada clase de vino en el dataset posee la misma relevancia.\n",
    "    metrics['accuracy'].append( accuracy_score(y_true=y_test, y_pred=prediccion) )\n",
    "    metrics['precision'].append( precision_score(y_true=y_test, y_pred=prediccion, average='macro') )\n",
    "    metrics['recall'].append( recall_score(y_true=y_test, y_pred=prediccion, average='macro') )\n",
    "\n",
    "## Graficar numero de vecinos vs las metricas\n",
    "plt.figure(figsize=(13, 4))\n",
    "\n",
    "# Iterar para cada metrica\n",
    "for m in metrics.keys():\n",
    "    \n",
    "    ## Graficar la metrica\n",
    "    plt.plot(nVecinos, metrics[m], label=m)\n",
    "    \n",
    "plt.title('KNN (X_test)')\n",
    "plt.xlabel('Numero de vecinos')\n",
    "plt.ylabel('Tasa')\n",
    "plt.legend(loc=(1.01, 0.5))\n",
    "plt.xlim(1, 49)\n",
    "plt.tight_layout()\n",
    "plt.show()"
   ]
  },
  {
   "cell_type": "markdown",
   "metadata": {},
   "source": [
    "### Justificacion\n",
    "Observando la informacion, expuesta en la primera celda de codigo, el \"Naive\" GridSearch implementado entrega un k=1 como mejor parametro. Esto tiene sentido, pues nuestro GridSearch manual, solo esta buscando el mejor score con respecto al accuracy alcanzando, es asi como vemos que existe un accuracy del 98%. Pero ademas al visualizar el grafico de la segunda celda, se denota como las tres metricas (precision, recall y accuracy) alcanzan su valor mas alto con k=1, siendo este ~98%\n",
    " \n",
    "\n",
    "Para identificar cual es la clase que tiene mas problemas para clasificar el clasificador, se deben observar los resultados obtenidos, expuestos en el resumen anterior.\n",
    "\n",
    "En primer lugar, en la precision, la cual demuestra el porcentaje de TP en el total de positives (TP+FP), se observa como la clase 2 alcanza un 94%, es decir 6% por debajo de la clase 1 y la clase 0. Por otro lado, en Recall la cual demuestra el porcentaje de TP/(TP+FN), la clase 1 posee un 5% menos que la clase 2 y 0.\n",
    "\n",
    "Es asi como se identifica rapidamente que el clasificador no tiene ningun problema con la clase 0, en cambio para identificar la clase con mas complicada, se tiene que estimar que metrica posee mayor valor agregado. Considerando que la precision significa el porcentaje de los resultados (predecidos) que son relevantes, y por otro lado el recall es, el porcentaje de resultados relevantes correctamente clasificados por el algoritmo. \n",
    "\n",
    "Teniendo esto en cuenta se considera que el recall posee mayor valor agregado que la precision, ya que el recall demuestra la cantidad de vinos que fueron clasificados de manera correcta. Es por ello que se establece que el clasificador posee mayores problemas para clasificar correctamente la clase 1.\n",
    "\n",
    "\n",
    "Por ultimo se observa el F1 Score que combina la precision y el recall, es decir nos demuestra el rendimiento combinado de ambas metricas, pero como nos enfrentamos a un caso de multiples clases, nos fijaremos particularmente en macro avg, puesto a que se considera que las tres clases de vinos del dataset poseen la misma relevancia, es asi como observamos un valor del 98% lo cual posiciona de buena manera a nuestro clasificador.\n"
   ]
  },
  {
   "cell_type": "markdown",
   "metadata": {},
   "source": [
    "## Pregunta 2\n",
    "Considere como conjunto de entrenamiento el conjunto de entrenamiento + validación de la pregunta 1. Para un clasificador knn grafique en un mismo plot el accuracy de entrenamiento y el accuracy en el conjunto de prueba a medida que aumenta el valor de k (ver el ejemplo de la clase 1 con el dataset breast_cancer). En base al resultado del gráfico, cuál es el valor de k más apropiado? Justifique su respuesta. Coincide con el resultado obtenido en la pregunta 1?"
   ]
  },
  {
   "cell_type": "markdown",
   "metadata": {},
   "source": [
    "### Respuesta:"
   ]
  },
  {
   "cell_type": "code",
   "execution_count": 7,
   "metadata": {},
   "outputs": [
    {
     "data": {
      "image/png": "[encoded data removed]",
      "text/plain": [
       "<Figure size 432x288 with 1 Axes>"
      ]
     },
     "metadata": {
      "needs_background": "light"
     },
     "output_type": "display_data"
    }
   ],
   "source": [
    "training_accuracy = []\n",
    "test_accuracy = []\n",
    "k = range(1, 50) #No hacemos K hasta 100, debido a que deja el grafico poco amigable.\n",
    "\n",
    "for n_neighbors in k:\n",
    "    clf = KNeighborsClassifier(n_neighbors=n_neighbors).fit(X_trainval, y_trainval)\n",
    "    #Usamos trainval, debido a que este seria nuestro set de train \"Completo\", sin separarlo para validar.\n",
    "    training_accuracy.append(clf.score(X_trainval, y_trainval))\n",
    "    test_accuracy.append(clf.score(X_test, y_test))\n",
    "    \n",
    "plt.plot(k, training_accuracy, label=\"training accuracy\")\n",
    "plt.plot(k, test_accuracy, label=\"test accuracy\")\n",
    "plt.ylabel(\"Accuracy\")\n",
    "plt.xlabel(\"n_neighbors\")\n",
    "_ = plt.legend()\n"
   ]
  },
  {
   "cell_type": "markdown",
   "metadata": {},
   "source": [
    "### Justificacion\n",
    "Al observar la grafica que muestra la variacion de la accuracy tanto training como test dependiendo del parametro K, se puede observar que efectivamente el mejor valor se alcanza cuando K es igual a 1, ya que con este valor para el parametro de n_neighbors, se alcanza por primera vez el punto más alto en la grafica. Luego se infiere que esto concuerda con lo expuesto en la primera pregunta, alcanzando asi una accuracy del 98%.\n",
    "\n",
    "Sin embargo, cabe mencionar que un k=1 puede traer complicaciones para el modelo, debido a que podria ser menos estable. Esto debido a que por ejemplo, si un punto de la data esta rodeado de puntos clase 0 y solo un punto de clase 1, y justamente este punto clase 1 se encuentra más cerca del punto a predecir, el clasificador prediciria que este punto pertenece a la clase 1, lo cual seria problamente erroneo, ya que al haber más puntos clase 0 probablemente pertenezca a esa clase. Es por este motivo que para evitar problemas de estabilidad se podría optar por un k=10, la cual como se observa en la gráfica alcanza la misma accuracy de 98%."
   ]
  },
  {
   "cell_type": "markdown",
   "metadata": {},
   "source": [
    "## Pregunta 3\n",
    "Usando la partición de la pregunta 1, entrene una regresión logística con regularización L1. Usando Random Search, determine el valor del hiperparámetro C. Para el valor de C seleccionado, qué atributos quedan ponderados por pesos igual a 0. Evalúe en el conjunto de prueba, entregando la matriz de confusión, accuracy, precision, recall, y F1-score. En base al resultado de accuracy, cuál clasificador (knn o regresión logística) obtiene el mejor resultado."
   ]
  },
  {
   "cell_type": "markdown",
   "metadata": {},
   "source": [
    "### Respuesta:"
   ]
  },
  {
   "cell_type": "code",
   "execution_count": 10,
   "metadata": {},
   "outputs": [
    {
     "name": "stdout",
     "output_type": "stream",
     "text": [
      "Size of training set: 99   size of validation set: 34   size of test set: 45\n",
      "\n",
      "Best score on validation set: 0.29\n",
      "Best parameters:  17.621772849037033 NUESTRO C SELECCIONADO\n",
      "Test set score with best parameters: 0.96\n",
      "\n",
      "\n",
      "MATRIZ DE CONFUSION:\n"
     ]
    },
    {
     "data": {
      "image/png": "[encoded data removed]",
      "text/plain": [
       "<Figure size 432x288 with 2 Axes>"
      ]
     },
     "metadata": {
      "needs_background": "light"
     },
     "output_type": "display_data"
    },
    {
     "name": "stdout",
     "output_type": "stream",
     "text": [
      "RESUMEN\n",
      "              precision    recall  f1-score   support\n",
      "\n",
      "           0       1.00      1.00      1.00         9\n",
      "           1       0.95      0.95      0.95        19\n",
      "           2       0.94      0.94      0.94        17\n",
      "\n",
      "    accuracy                           0.96        45\n",
      "   macro avg       0.96      0.96      0.96        45\n",
      "weighted avg       0.96      0.96      0.96        45\n",
      "\n",
      "\n",
      "\n",
      "\n",
      "\n",
      "Atributos quedan ponderados por pesos igual a 0 \n",
      "\n",
      "coef ponderamos por pesos iguales a 0 en la clase 0:\n",
      "magnesium\n",
      "color_intensity\n",
      "\n",
      "\n",
      "coef ponderamos por pesos iguales a 0 en la clase 1:\n",
      "total_phenols\n",
      "\n",
      "\n",
      "coef ponderamos por pesos iguales a 0 en la clase 2:\n",
      "alcohol\n",
      "proline\n"
     ]
    }
   ],
   "source": [
    "#Hacemos Naive way of Randomsearch, donde no usamos RandomSearchCV, pues usa crossvalidation\n",
    "\n",
    "# split data into train+validation set and test set\n",
    "X_trainval, X_test, y_trainval, y_test = train_test_split(\n",
    "    wine_dataset.data, wine_dataset.target, random_state=7) #Fijamos la semilla en 7.\n",
    "\n",
    "# split train+validation set into training and validation set\n",
    "X_train, X_valid, y_train, y_valid = train_test_split(\n",
    "    X_trainval, y_trainval, random_state=0)\n",
    "\n",
    "# #Estandarizamos los datos:\n",
    "scale = StandardScaler().fit(X_train)\n",
    "X_test = scale.transform(X_test)\n",
    "X_trainval= scale.transform(X_trainval)\n",
    "X_train= scale.transform(X_train)\n",
    "\n",
    "\n",
    "#Vemos los size de cada set\n",
    "print(\"Size of training set: {}   size of validation set: {}   size of test set:\"\n",
    "      \" {}\\n\".format(X_train.shape[0], X_valid.shape[0], X_test.shape[0]))\n",
    "\n",
    "best_score = 0\n",
    "#Parametro C\n",
    "for i in range(100):#Hacemos 100 iteraciones donde se varia el C de manera random y uniforme\n",
    "    C= random.uniform(0, 100) #Establecemos el parametro C\n",
    "    #Hacemos el train\n",
    "    r = LogisticRegression(C=C, penalty='l1',solver='saga').fit(X_train, y_train)\n",
    "    #Evaluamos en el validation set\n",
    "    score=r.score(X_valid, y_valid)\n",
    "    #Nos quedamos con el mejor parametro C\n",
    "    if score > best_score:\n",
    "            best_score = score\n",
    "            best_parameters = C\n",
    "    #print(\"score/C/i\", score, C, i) #chequee si el for funcionaba correctamente y observe los scores           \n",
    "\n",
    "\n",
    "    \n",
    "#  #Usamos el mejor C=best_parameters y evaluamos en el test set\n",
    "r = LogisticRegression(C=best_parameters, penalty='l1',solver='saga').fit(X_trainval, y_trainval)\n",
    "test_score = r.score(X_test, y_test)\n",
    "print(\"Best score on validation set: {:.2f}\".format(best_score))\n",
    "print(\"Best parameters: \", best_parameters,\"NUESTRO C SELECCIONADO\")\n",
    "print(\"Test set score with best parameters: {:.2f}\".format(test_score))\n",
    "y_pred=r.predict(X_test)\n",
    "print(\"\\n\")\n",
    "print(\"MATRIZ DE CONFUSION:\")\n",
    "plot_confusion_matrix(r, X_test, y_test)\n",
    "plt.show()\n",
    "print('RESUMEN')\n",
    "print(classification_report(y_test, y_pred))\n",
    "#Veamos que coeficientes en cada clase quedan ponderamos por pesos iguales a 0:\n",
    "aux=list(r.coef_) #transformamos en lista el resultado de r.coef_, donde es un arreglo con arreglos en su interior\n",
    "#creamos los arreglos donde vamos a almacenar los index de cada uno de los coeficientes que sean 0.\n",
    "#esto es necesario para despues sacar su nombre del wine_dataset['feature_names']\n",
    "clase0=[]\n",
    "clase1=[]\n",
    "clase2=[]\n",
    "#Creamos un for que recorre la lista aux, en busca de aquellos atributos que son 0\n",
    "for j in range(3):\n",
    "    for k in range(13):\n",
    "        if (aux[j][k])==0:\n",
    "            if j==0:\n",
    "                clase0.append(k)\n",
    "            if j==1:\n",
    "                clase1.append(k)\n",
    "            if j==2:\n",
    "                clase2.append(k)\n",
    "print('\\n')\n",
    "print('\\n')\n",
    "print('Atributos quedan ponderados por pesos igual a 0 \\n') \n",
    "print('coef ponderamos por pesos iguales a 0 en la clase 0:')\n",
    "#Hacemos que imprima el nombre del atributo que posee una ponderacion con peso igual a 0\n",
    "for i in range(len(clase0)):\n",
    "    aux2=wine_dataset['feature_names'][clase0[i]]\n",
    "    print(aux2)\n",
    "print('\\n')\n",
    "print('coef ponderamos por pesos iguales a 0 en la clase 1:')\n",
    "for i in range(len(clase1)):\n",
    "    aux2=wine_dataset['feature_names'][clase1[i]]\n",
    "    print(aux2)\n",
    "print('\\n')\n",
    "print('coef ponderamos por pesos iguales a 0 en la clase 2:')\n",
    "for i in range(len(clase2)):\n",
    "    aux2=wine_dataset['feature_names'][clase2[i]]\n",
    "    print(aux2)"
   ]
  },
  {
   "cell_type": "markdown",
   "metadata": {},
   "source": [
    "### Justificacion\n",
    "Antes que todo, notemos la diferencia en la busqueda del mejor parametro en comparacion con la pregunta 1. Como sabemos GridSearch toma una grid con valores ya conocidos, por otro lado randomsearch genera numeros aletorios para testear.\n",
    "\n",
    "En primer lugar con regulacion L1, obtenemos un parametro C= ~32.38, el cual fue obtenido por medio de un randomsearch \"Naive\", usando un C random uniforme entre los valores de 0 y 100, se utilizo uniform, puesto a que no se tiene conocimiento certero del efecto de C en el clasificador, por lo que al implementar una distribucion uniforme se le otorga el mismo peso a todas las posibles C's, cabe destacar que el valor del \"best parameter: C\" varia cada vez que se ejecuta el codigo, sin embargo esto no afecta en el accuracy obtenido.\n",
    "\n",
    "De igual modo al final del output, se expone que atributos quedan ponderados por pesos igual a 0, en cada una de las clases, lo cual varia cada vez que se ejecuta el codigo. Se infiere que esto se debe porque \"L1\" prefiere sparsity, por lo que algunos de los coeficientes pueden tomar valor 0, y otros valores \"grandes\", como se explico en clases.\n",
    "\n",
    "Una vez teniendo este best_parameter, este se implemento en clasificador de regresion logistica, de igual modo se utilizo el solver=saga poder ejecutar el clasificador con penalty=l1. Es asi como con este parametro C, se obtiene una accuracy del 96%.\n",
    "\n",
    "De igual forma se visualiza como la matriz de confusion muestra resultados favorables. Al ver la prediccion para la clase 0 vemos como no exiten errores, ya que las 9 instancias fueron correctamente clasificadas. Posteriormente para el caso de la clase 1, notamos como predice que existen 19 de este tipo, no obstante unos de ellos es un error, debido a que el clasificador lo establece como clase 1 pero este realmente es clase 2. Por ultimo para la clase 2, el clasificador predice correctamente 16, y comete un error de clasificar como clase 2 a un vino que realmente era clase 1.\n",
    "\n",
    "Observando el resumen, se establece que el clasificador actua de manera adecuada. Debido a que para la clase 0 logra clasificar todos correctamente, por lo que alcanza un 100% de precision y recall. Por otro lado las clases 1 y 2 alcanzan un 95% y 94% respectivamente en ambas metricas. Es asi como se establece que el clasificador alcanza una buena precision y recall en las tres clases, obteniendo los mejores resultados en la clase 0, luego la 1 y finalmente la 2. Por ultimo se ve el F1 Score que combina la precision y el recall, es decir nos demuestra el rendimiento combinado de ambas metricas, pero como nos enfrentamos a un caso de multiples clases, nos fijaremos particularmente en macro avg, puesto a que se considera que las tres clases de vinos del dataset poseen la misma relevancia, es asi como observamos un valor del 96% lo cual posiciona de buena manera a nuestro clasificador.\n",
    "\n",
    "Finalmente, basandose netamente en la accuracy este seria un peor clasificador que el knn, debido a que como se expuso previamente, el clasificador knn alcanzo un valor del 98% en accuracy superando por 2% al de regresion logistica con penalty=l1.\n"
   ]
  },
  {
   "cell_type": "markdown",
   "metadata": {},
   "source": [
    "## Pregunta 4\n",
    "Repita la pregunta 3 con regularización L2"
   ]
  },
  {
   "cell_type": "markdown",
   "metadata": {},
   "source": [
    "### Respuesta"
   ]
  },
  {
   "cell_type": "code",
   "execution_count": 17,
   "metadata": {},
   "outputs": [
    {
     "name": "stdout",
     "output_type": "stream",
     "text": [
      "Size of training set: 99   size of validation set: 34   size of test set: 45\n",
      "\n",
      "Best score on validation set: 0.29\n",
      "Best parameters:  15.44466237686921 NUESTRO C SELECCIONADO\n",
      "Test set score with best parameters: 0.96\n",
      "Informacion RELEVANTE:\n",
      "MATRIZ DE CONFUSION:\n"
     ]
    },
    {
     "data": {
      "image/png": "[encoded data removed]",
      "text/plain": [
       "<Figure size 432x288 with 2 Axes>"
      ]
     },
     "metadata": {
      "needs_background": "light"
     },
     "output_type": "display_data"
    },
    {
     "name": "stdout",
     "output_type": "stream",
     "text": [
      "RESUMEN\n",
      "              precision    recall  f1-score   support\n",
      "\n",
      "           0       1.00      1.00      1.00         9\n",
      "           1       0.95      0.95      0.95        19\n",
      "           2       0.94      0.94      0.94        17\n",
      "\n",
      "    accuracy                           0.96        45\n",
      "   macro avg       0.96      0.96      0.96        45\n",
      "weighted avg       0.96      0.96      0.96        45\n",
      "\n",
      "\n",
      "\n",
      "\n",
      "\n",
      "Atributos quedan ponderados por pesos igual a 0 \n",
      "\n",
      "coef ponderamos por pesos iguales a 0 en la clase 0:\n",
      "\n",
      "\n",
      "coef ponderamos por pesos iguales a 0 en la clase 1:\n",
      "\n",
      "\n",
      "coef ponderamos por pesos iguales a 0 en la clase 2:\n",
      "\n",
      "\n",
      "Observemos como no existen coeficientes (atributos) con pesos ponderados igualados a 0:\n",
      "\n",
      "[array([ 1.25081607,  0.36704721,  0.86476911, -1.90150209,  0.17073864,\n",
      "        0.22845617,  1.03921417, -0.36426002,  0.28595861,  0.04236703,\n",
      "        0.18304455,  1.0619526 ,  1.64829343]), array([-1.35451832, -0.89444304, -1.53761935,  1.16533219, -0.57196039,\n",
      "        0.0981516 ,  0.43064426,  0.73266446,  0.40922822, -1.63761288,\n",
      "        1.0476777 , -0.20938349, -1.80722232]), array([ 0.10370226,  0.52739583,  0.67285024,  0.7361699 ,  0.40122175,\n",
      "       -0.32660777, -1.46985843, -0.36840444, -0.69518683,  1.59524584,\n",
      "       -1.23072225, -0.85256912,  0.15892889])]\n"
     ]
    }
   ],
   "source": [
    "#Hacemos Naive way of Randomsearch, donde no usamos RandomSearchCV, pues usa crossvalidation\n",
    "\n",
    "# split data into train+validation set and test set\n",
    "X_trainval, X_test, y_trainval, y_test = train_test_split(\n",
    "    wine_dataset.data, wine_dataset.target, random_state=7) #Fijamos la semilla en 7.\n",
    "\n",
    "# split train+validation set into training and validation set\n",
    "X_train, X_valid, y_train, y_valid = train_test_split(\n",
    "    X_trainval, y_trainval, random_state=0)\n",
    "\n",
    "# #Estandarizamos los datos:\n",
    "scale = StandardScaler().fit(X_train)\n",
    "X_test = scale.transform(X_test)\n",
    "X_trainval= scale.transform(X_trainval)\n",
    "X_train= scale.transform(X_train)\n",
    "\n",
    "\n",
    "#Vemos los size de cada set\n",
    "print(\"Size of training set: {}   size of validation set: {}   size of test set:\"\n",
    "      \" {}\\n\".format(X_train.shape[0], X_valid.shape[0], X_test.shape[0]))\n",
    "\n",
    "best_score = 0\n",
    "#Parametro C\n",
    "for i in range(100):#Hacemos 100 iteraciones donde se varia el C de manera random y uniforme\n",
    "    C= random.uniform(0, 100) #Establecemos el parametro C\n",
    "    #Hacemos el train\n",
    "    r = LogisticRegression(C=C, penalty='l2',solver='saga').fit(X_train, y_train)\n",
    "    #Evaluamos en el validation set\n",
    "    score=r.score(X_valid, y_valid)\n",
    "    #Nos quedamos con el mejor parametro C\n",
    "    if score > best_score:\n",
    "            best_score = score\n",
    "            best_parameters = C\n",
    "    #print(\"score/C/i\", score, C, i) #chequee si el for funcionaba correctamente y observe los scores           \n",
    "\n",
    "\n",
    "    \n",
    " #Usamos el mejor C=best_parameters y evaluamos en el test set\n",
    "r = LogisticRegression(C=best_parameters, penalty='l2',solver='saga').fit(X_trainval, y_trainval)\n",
    "test_score = r.score(X_test, y_test)\n",
    "print(\"Best score on validation set: {:.2f}\".format(best_score))\n",
    "print(\"Best parameters: \", best_parameters,\"NUESTRO C SELECCIONADO\")\n",
    "print(\"Test set score with best parameters: {:.2f}\".format(test_score))\n",
    "print('Informacion RELEVANTE:')\n",
    "y_pred=r.predict(X_test)\n",
    "print(\"MATRIZ DE CONFUSION:\")\n",
    "plot_confusion_matrix(r, X_test, y_test)\n",
    "plt.show()\n",
    "print('RESUMEN')\n",
    "print(classification_report(y_test, y_pred))\n",
    "\n",
    "#Veamos que coeficientes en cada clase quedan ponderamos por pesos iguales a 0:\n",
    "aux=list(r.coef_) #transformamos en lista el resultado de r.coef_, donde es un arreglo con arreglos en su interior\n",
    "#creamos los arreglos donde vamos a almacenar los index de cada uno de los coeficientes que sean 0.\n",
    "#esto es necesario para despues sacar su nombre del wine_dataset['feature_names']\n",
    "clase0=[]\n",
    "clase1=[]\n",
    "clase2=[]\n",
    "#Creamos un for que recorre la lista aux, en busca de aquellos atributos que son 0\n",
    "for j in range(3):\n",
    "    for k in range(13):\n",
    "        if (aux[j][k])==0:\n",
    "            if j==0:\n",
    "                clase0.append(k)\n",
    "            if j==1:\n",
    "                clase1.append(k)\n",
    "            if j==2:\n",
    "                clase2.append(k)\n",
    "print('\\n')\n",
    "print('\\n')\n",
    "print('Atributos quedan ponderados por pesos igual a 0 \\n') \n",
    "print('coef ponderamos por pesos iguales a 0 en la clase 0:')\n",
    "#Hacemos que imprima el nombre del atributo que posee una ponderacion con peso igual a 0\n",
    "for i in range(len(clase0)):\n",
    "    aux2=wine_dataset['feature_names'][clase0[i]]\n",
    "    print(aux2)\n",
    "print('\\n')\n",
    "print('coef ponderamos por pesos iguales a 0 en la clase 1:')\n",
    "for i in range(len(clase1)):\n",
    "    aux2=wine_dataset['feature_names'][clase1[i]]\n",
    "    print(aux2)\n",
    "print('\\n')\n",
    "print('coef ponderamos por pesos iguales a 0 en la clase 2:')\n",
    "for i in range(len(clase2)):\n",
    "    aux2=wine_dataset['feature_names'][clase2[i]]\n",
    "    print(aux2)\n",
    "\n",
    "#Como en este caso no hay atributos con pesos ponderados iguales a 0, pues L2 prefiere muchos pesos pequeños.\n",
    "#Veamos los coeficientes\n",
    "print('\\n')\n",
    "print('Observemos como no existen coeficientes (atributos) con pesos ponderados igualados a 0:\\n')\n",
    "print(aux)"
   ]
  },
  {
   "cell_type": "markdown",
   "metadata": {},
   "source": [
    "### Justificacion\n",
    "Podemos observar que los resultados son sumamente similares, cambiando el penalty=l2. Esto debido a que se alcanza el mismo nivel de accuracy de un 96% y de igual forma se llega a los scores en las diferentes metricas para las distintas clases, es decir el resumen es identico. Por lo que el analisis es el mismo que en la anterior pregunta.\n",
    "\n",
    "No obstante si existen un puntos de diferenciacion, el primero de ellos es el valor que toma el parametro C, donde se evidencia como varia dependiendo del penalty utilizado. \n",
    "\n",
    "Asi mismo donde existe la mayor diferencia es en la cantidad de atributos que quedan ponderados por pesos igual a 0, como se ha de esperar en este caso no existen atributos con pesos ponderadoss igual a 0 en ninguna de las clases, esto debido a que \"L1\" prefiere sparsity, donde varios pesos son 0, y otros grandes, en cambio \"L2\" prefiere muchos pesos pequeños, como se puede observar en el arreglo de los coeficientes para las distintas clases al final del output anterior, donde es un arreglo con tres arreglos en su interior, donde cada uno de ellos representa una clase y los pesos para cada uno de los atributos de ella.\n",
    "\n",
    "Finalmente, basandose netamente en la accuracy este seria un peor clasificador que el knn, debido a que como se expuso previamente, el clasificador knn alcanzo un valor del 98% en accuracy superando por 2% al de regresion logistica con penalty=l2, es decir que ambos casos donde se utiliza el clasificador de regresion logistica se obtiene la misma accuracy, por lo que se podria considerar estan empatados."
   ]
  },
  {
   "cell_type": "markdown",
   "metadata": {},
   "source": [
    "## Pregunta 5 \n",
    "Considere el clasificador Linear Support Vector Machine. Utilizando el dataset completo, realice una validación cruzada de 10 dobladas estratificada, con SVC (usando valores para los hiperparámetros que trae por defecto) usando como métrica el accuracy. Qué le parece el resultado obtenido? se puede comparar el accuracy obtenido por este enfoque de validación cruzada versus los resultados de accuracy obtenidos por los enfoques hold-out usados para knn, regresión logística L1 y L2? Justifique su respuesta."
   ]
  },
  {
   "cell_type": "markdown",
   "metadata": {},
   "source": [
    "### Respuesta"
   ]
  },
  {
   "cell_type": "code",
   "execution_count": 14,
   "metadata": {},
   "outputs": [
    {
     "name": "stdout",
     "output_type": "stream",
     "text": [
      "Accuracy con intervalo de confianza del 95%:\n",
      "Accuracy: 0.68 (+/- 0.17)\n"
     ]
    }
   ],
   "source": [
    "clf = SVC() #Usamos SVC de manera default\n",
    "cv = StratifiedKFold(n_splits=10) #validación cruzada de 10 dobladas estratificada\n",
    "scores=cross_val_score(SVC(), wine_dataset.data, wine_dataset.target, cv=cv)\n",
    "print(\"Accuracy con intervalo de confianza del 95%:\")\n",
    "print(\"Accuracy: %0.2f (+/- %0.2f)\" % (scores.mean(), scores.std() * 2))"
   ]
  },
  {
   "cell_type": "markdown",
   "metadata": {},
   "source": [
    "### Justificacion\n",
    "En primer lugar observamos como el clasificador SVC con una validación cruzada de 10 dobladas estratificada, alcanza una accuracy del  68% (+/- 17%) con un intervalo de confianza del 95%, por lo que se infiere que a pesar de implementar una validacion cruzada de 10 dobladas estratificadas, el clasificador SVC no posee un desempeño deseable, esto debido a que casi un tercio de las veces no lograria predecir de manera correcta.\n",
    "\n",
    "Se deduce que esta accuracy obtenida no puede ser comparada de manera precisa con las previamente calculadas, debido a que el clasificador no fue entrenado de la misma forma. Para los casos anteriores se realizo una train set y un test set, por lo cual solo se efectuo una division de la data. Por otro lado para este caso se realizo una crossvalidation con 10 dobladas estratificadas, por lo que la data se separo en 10 grupos, para que asi el modelo haga su train y test en 10 casos separados, logrando asi que cada uno de los grupos pase a ser parte del test set eventualmente. \n",
    "\n",
    "Es por este motivo que la comparacion no seria justa, ya que en los casos anteriores el modelo se entreno con solo una division, y en este caso lo hizo con 10 grupos diferentes, por lo que el scoring alcanzando demuestra de mejor manera como se desempeñaria el modelo frente a una nueva data. En otras palabras este es un foque mas realista, sobre el posible desempeño del modelo, lo cual justifica el por que éste entrega un score bastante inferior en comparacion a los anteriores casos."
   ]
  },
  {
   "cell_type": "markdown",
   "metadata": {},
   "source": [
    "## Pregunta 6\n",
    "Repita la pregunta 5 pero ahora con Grid-search + cross-validation para determinar el valor de C más apropiado. Mejora el accuracy resultante?"
   ]
  },
  {
   "cell_type": "markdown",
   "metadata": {},
   "source": [
    "### Respuesta"
   ]
  },
  {
   "cell_type": "code",
   "execution_count": 16,
   "metadata": {},
   "outputs": [
    {
     "name": "stdout",
     "output_type": "stream",
     "text": [
      "Grid-Search with accuracy\n",
      "Best parameters: {'C': 6.869000000000001}\n",
      "Best cross-validation score (accuracy)): 0.725\n"
     ]
    }
   ],
   "source": [
    "param_grid = {'C': linspace(0.001, 10, 100)}#Usamos una grid que va desde el 0.001 hasta el 10 con 100 numeros.\n",
    "# using the default scoring of accuracy:\n",
    "cv = StratifiedKFold(n_splits=10) #validación cruzada de 10 dobladas estratificada\n",
    "grid = GridSearchCV(SVC(), param_grid=param_grid, cv=cv) #Podria ser 10 directo, pues por defecto si cv es un int se usa (Stratified)KFold\n",
    "grid.fit(wine_dataset.data, wine_dataset.target)\n",
    "print(\"Grid-Search with accuracy\")\n",
    "print(\"Best parameters:\", grid.best_params_)\n",
    "print(\"Best cross-validation score (accuracy)): {:.3f}\".format(grid.best_score_))\n",
    "\n"
   ]
  },
  {
   "cell_type": "markdown",
   "metadata": {},
   "source": [
    "### Justificacion\n",
    "Al dejar de usar el parametro C como default, y buscar mediante gridsearch su mejor valor, que en este caso es ~6.87, podemos ver un aumento en la accuracy pasando de un 68% a un 72.5%, es decir un aumento de 4.5%. Este aumento es razonable, debido a que cuando el clasificador SVC es usado de manera default (pregunta 5) C toma el valor de 1, es decir no se esta implementando el parametro con su mejor valor posible, el cual es 6.87.\n",
    "\n",
    "Nuevamente no es valido comparar este valor con las anteriores preguntas, puesto a que como se explico previamente la forma en que se entrena el modelo no es la misma. Se infiere que esta manera es más ventajosa, ya que permite que el modelo se entrene con distintos divisiones de train y test set, lo cual permite entregar una accuracy que sea más realista al momento de desempeñar el modelo con nueva data (no vista)."
   ]
  },
  {
   "cell_type": "markdown",
   "metadata": {},
   "source": [
    "## Suerte!"
   ]
  },
  {
   "cell_type": "markdown",
   "metadata": {},
   "source": [
    "Gracias!"
   ]
  }
 ],
 "metadata": {
  "kernelspec": {
   "display_name": "Python 3",
   "language": "python",
   "name": "python3"
  },
  "language_info": {
   "codemirror_mode": {
    "name": "ipython",
    "version": 3
   },
   "file_extension": ".py",
   "mimetype": "text/x-python",
   "name": "python",
   "nbconvert_exporter": "python",
   "pygments_lexer": "ipython3",
   "version": "3.7.6"
  }
 },
 "nbformat": 4,
 "nbformat_minor": 2
}
